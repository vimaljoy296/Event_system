{
 "cells": [
  {
   "cell_type": "code",
   "execution_count": null,
   "metadata": {},
   "outputs": [],
   "source": [
    "1. npm init -y\n",
    "2. npm install graphql apollo-server\n",
    "3. npm install --save -dev nodemon\n",
    "4. npm install jsonwebtoken\n",
    "5. npm start (for running the file)\n",
    "\n",
    "6. check the package.json file have this line of code ( \"start\":\"nodemon graphQL/server.js\",)"
   ]
  }
 ],
 "metadata": {
  "language_info": {
   "name": "python"
  }
 },
 "nbformat": 4,
 "nbformat_minor": 2
}

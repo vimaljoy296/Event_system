{
 "cells": [
  {
   "cell_type": "markdown",
   "metadata": {},
   "source": [
    "### how to run the a sqlite3 \n",
    "1. create .db file \n",
    "2. create. sql file\n",
    "3. make sure all the sqlite3 , sqliteviewer etc..has been installed and so on, then tyrpe this \n",
    "\n",
    "sqlite3 <db filename >  (it will go to the sqlite shell and then we can run insert,schema files) or \n",
    "\n",
    "sqlite event.db < schema.sql (in powershell folder)\n"
   ]
  },
  {
   "cell_type": "markdown",
   "metadata": {},
   "source": []
  }
 ],
 "metadata": {
  "language_info": {
   "name": "python"
  }
 },
 "nbformat": 4,
 "nbformat_minor": 2
}
